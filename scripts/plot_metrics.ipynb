{
 "cells": [
  {
   "cell_type": "markdown",
   "metadata": {},
   "source": [
    "# Create Plots of Performance Metrics\n",
    "This is a python program that create performance plots using matplotlib\n",
    "reading metrics from the performance metric file in\n",
    "   /home/HYDROAPP/common/performance/log_artificats.csv\n"
   ]
  },
  {
   "cell_type": "code",
   "execution_count": null,
   "metadata": {},
   "outputs": [],
   "source": [
    "import pandas as pd\n",
    "import matplotlib.pyplot as plt\n",
    "\n",
    "def plot_scenario(scenario_name):\n",
    "    \"\"\"Plot graphs related to the scenario name.\"\"\"\n",
    "\n",
    "    log_artificats_path = \"/home/HYDROAPP/common/performance/log_artifact.csv\"\n",
    "\n",
    "    df = pd.read_csv(log_artificats_path)\n",
    "    df['date'] = pd.to_datetime(df['date'], format='%Y-%m-%d:%H:%M:%S')\n",
    "\n",
    "    oldhf_df = df[df['hf_hydrodata_version'].isin ([\"1.3.14\", \"1.3.16\"])]\n",
    "    fasthf_df = df[~df['hf_hydrodata_version'].isin ([\"1.3.14\", \"1.3.16\"])]\n",
    "\n",
    "    oldhf_scenario_df = oldhf_df[oldhf_df['scenario'] == scenario_name]\n",
    "    fasthf_scenario_df = fasthf_df[fasthf_df['scenario'] == scenario_name]\n",
    "    old_remote_df = oldhf_scenario_df[oldhf_scenario_df['remotelocal'] == 'remote']\n",
    "    old_local_df = oldhf_scenario_df[oldhf_scenario_df['remotelocal'] == 'local']\n",
    "    old_remote_cold_df = old_remote_df[old_remote_df['hotcold'] == 'cold']\n",
    "    old_remote_hot_df = old_remote_df[old_remote_df['hotcold'] == 'hot']\n",
    "    old_local_cold_df = old_local_df[old_local_df['hotcold'] == 'cold']\n",
    "    old_local_hot_df = old_local_df[old_local_df['hotcold'] == 'hot']\n",
    "\n",
    "    fasthf_remote_df = fasthf_scenario_df[fasthf_scenario_df['remotelocal'] == 'remote']\n",
    "    fasthf_local_df = fasthf_scenario_df[fasthf_scenario_df['remotelocal'] == 'local']\n",
    "    fasthf_remote_cold_df = fasthf_remote_df[fasthf_remote_df['hotcold'] == 'cold']\n",
    "    fasthf_remote_hot_df = fasthf_remote_df[fasthf_remote_df['hotcold'] == 'hot']\n",
    "    fasthf_local_cold_df = fasthf_local_df[fasthf_local_df['hotcold'] == 'cold']\n",
    "    fasthf_local_hot_df = fasthf_local_df[fasthf_local_df['hotcold'] == 'hot']\n",
    "\n",
    "    plt.figure(figsize=(10, 6))\n",
    "\n",
    "    plt.plot(old_remote_cold_df['date'], old_remote_cold_df['duration'], label='Old Remote Cold', color='blue', marker='o')\n",
    "    plt.plot(old_remote_hot_df['date'], old_remote_hot_df['duration'], label='Old Remote Hot', color='red', marker='o')\n",
    "    plt.plot(old_local_cold_df['date'], old_local_cold_df['duration'], label='Old Local Cold', color='green', marker='o')\n",
    "    plt.plot(old_local_hot_df['date'], old_local_hot_df['duration'], label='Old Local Hot', color='cyan', marker='o')\n",
    "\n",
    "    plt.plot(fasthf_remote_cold_df['date'], fasthf_remote_cold_df['duration'], label='FastHF Remote Cold', color='blue', marker='x')\n",
    "    plt.plot(fasthf_remote_hot_df['date'], fasthf_remote_hot_df['duration'], label='FastHF Remote Hot', color='red', marker='x')\n",
    "    plt.plot(fasthf_local_cold_df['date'], fasthf_local_cold_df['duration'], label='FastHF Local Cold', color='green', marker='x')\n",
    "    plt.plot(fasthf_local_hot_df['date'], fasthf_local_hot_df['duration'], label='FastHF Local Hot', color='cyan', marker='x')\n",
    "\n",
    "    # Adding labels and title\n",
    "    plt.gca().xaxis.set_major_formatter(plt.matplotlib.dates.DateFormatter('%Y-%m-%d'))\n",
    "    plt.xticks(rotation=45)\n",
    "    plt.xlabel('Date of Test')\n",
    "    plt.ylabel(\"Duration in Seconds\")\n",
    "    plt.title(f\"Hot and Cold Duration for {scenario_name}\")\n",
    "    plt.legend()\n",
    "\n",
    "    # Show plot\n",
    "    plt.show()\n",
    "\n",
    "plot_scenario(\"read_1_hour_1_point\")\n",
    "plot_scenario(\"read_365_days_1_point\")\n",
    "plot_scenario(\"subset_forcing\")\n",
    "plot_scenario(\"subset_forcing_2mo\")\n",
    "plot_scenario(\"hydrogen_forcing\")\n",
    "plot_scenario(\"read_full_conus1_3d\")"
   ]
  }
 ],
 "metadata": {
  "kernelspec": {
   "display_name": "base",
   "language": "python",
   "name": "python3"
  },
  "language_info": {
   "codemirror_mode": {
    "name": "ipython",
    "version": 3
   },
   "file_extension": ".py",
   "mimetype": "text/x-python",
   "name": "python",
   "nbconvert_exporter": "python",
   "pygments_lexer": "ipython3",
   "version": "3.11.4"
  }
 },
 "nbformat": 4,
 "nbformat_minor": 2
}
